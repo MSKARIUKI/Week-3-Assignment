{
  "nbformat": 4,
  "nbformat_minor": 0,
  "metadata": {
    "colab": {
      "provenance": []
    },
    "kernelspec": {
      "name": "python3",
      "display_name": "Python 3"
    },
    "language_info": {
      "name": "python"
    }
  },
  "cells": [
    {
      "cell_type": "code",
      "source": [
        "def calculate_discount(price, discount_percent):\n",
        "    if discount_percent >= 20:\n",
        "        discount_amount = price * (discount_percent / 100)\n",
        "        final_price = price - discount_amount\n",
        "        return final_price\n",
        "    else:\n",
        "        return price\n",
        "\n",
        "def main():\n",
        "    # Original price and discount percentage\n",
        "    original_price = float(input(\"Enter the original price of the item: \"))\n",
        "    discount_percent = float(input(\"Enter the discount percentage: \"))\n",
        "\n",
        "    # Calculate final price using calculate_discount function\n",
        "    final_price = calculate_discount(original_price, discount_percent)\n",
        "\n",
        "    # Print final price after applying discount\n",
        "    print(\"Final price after applying discount:\", final_price)\n",
        "\n",
        "if __name__ == \"__main__\":\n",
        "    main()\n"
      ],
      "metadata": {
        "id": "USrvlxvZlDSG"
      },
      "execution_count": null,
      "outputs": []
    }
  ]
}